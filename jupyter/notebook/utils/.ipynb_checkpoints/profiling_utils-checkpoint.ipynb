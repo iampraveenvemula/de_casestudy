{
 "cells": [
  {
   "cell_type": "code",
   "execution_count": 2,
   "metadata": {},
   "outputs": [
    {
     "data": {
      "text/html": [
       "\n",
       "                <script type=\"application/javascript\" id=\"jupyter_black\">\n",
       "                (function() {\n",
       "                    if (window.IPython === undefined) {\n",
       "                        return\n",
       "                    }\n",
       "                    var msg = \"WARNING: it looks like you might have loaded \" +\n",
       "                        \"jupyter_black in a non-lab notebook with \" +\n",
       "                        \"`is_lab=True`. Please double check, and if \" +\n",
       "                        \"loading with `%load_ext` please review the README!\"\n",
       "                    console.log(msg)\n",
       "                    alert(msg)\n",
       "                })()\n",
       "                </script>\n",
       "                "
      ],
      "text/plain": [
       "<IPython.core.display.HTML object>"
      ]
     },
     "metadata": {},
     "output_type": "display_data"
    }
   ],
   "source": [
    "# Import the findspark module to help locate and initialize Spark\n",
    "import findspark\n",
    "\n",
    "# Initialize Spark\n",
    "findspark.init()\n",
    "\n",
    "# Import the jupyter_black module, which is an extension to format code cells in Jupyter Notebook\n",
    "import jupyter_black\n",
    "\n",
    "# Load and enable the jupyter_black extension to format code cells automatically\n",
    "jupyter_black.load()"
   ]
  },
  {
   "cell_type": "code",
   "execution_count": 3,
   "metadata": {},
   "outputs": [],
   "source": [
    "# importing required libraries\n",
    "\n",
    "import pandas as pd\n",
    "\n",
    "from pyspark.conf import SparkConf\n",
    "from pyspark.sql import SparkSession, DataFrame\n",
    "from pyspark.sql.functions import col, count, isnan, when\n",
    "\n",
    "from common import *"
   ]
  },
  {
   "cell_type": "code",
   "execution_count": 5,
   "metadata": {},
   "outputs": [],
   "source": [
    "def get_data_types(data_df: DataFrame, columns: list) -> pd.DataFrame:\n",
    "    \"\"\"\n",
    "    Get data types of specified columns in the DataFrame.\n",
    "\n",
    "    Parameters:\n",
    "        data_df (DataFrame): The input DataFrame.\n",
    "        columns (list): List of column names.\n",
    "\n",
    "    Returns:\n",
    "        pd.DataFrame: DataFrame containing column names and their data types.\n",
    "    \"\"\"\n",
    "    data_types_df = pd.DataFrame(\n",
    "        {\n",
    "            \"column_names\": columns,\n",
    "            \"data_types\": [x[1] for x in data_df.select(columns).dtypes],\n",
    "        }\n",
    "    )\n",
    "    return data_types_df[[\"column_names\", \"data_types\"]]"
   ]
  },
  {
   "cell_type": "code",
   "execution_count": null,
   "metadata": {},
   "outputs": [],
   "source": [
    "def get_null_counts(data_df: DataFrame, columns: list) -> pd.DataFrame:\n",
    "    \"\"\"\n",
    "    Get counts of null and NaN values for specified columns in the DataFrame.\n",
    "\n",
    "    Parameters:\n",
    "        data_df (DataFrame): The input DataFrame.\n",
    "        columns (list): List of column names.\n",
    "\n",
    "    Returns:\n",
    "        pd.DataFrame: DataFrame containing column names and their null value counts.\n",
    "    \"\"\"\n",
    "    null_counts_df = (\n",
    "        data_df.select(\n",
    "            [\n",
    "                count(when(isnan(c) | col(c).isNull(), c)).alias(c)\n",
    "                for c in columns\n",
    "                if data_df.select(c).dtypes[0][1] != \"timestamp\"\n",
    "            ]\n",
    "        )\n",
    "        .toPandas()\n",
    "        .transpose()\n",
    "    )\n",
    "    null_counts_df = null_counts_df.reset_index()\n",
    "    null_counts_df.columns = [\"column_names\", \"num_null\"]\n",
    "    return null_counts_df"
   ]
  },
  {
   "cell_type": "code",
   "execution_count": 7,
   "metadata": {},
   "outputs": [],
   "source": [
    "def get_space_and_blank_counts(data_df: DataFrame, columns: list) -> pd.DataFrame:\n",
    "    \"\"\"\n",
    "    Get counts of white spaces and blanks for specified columns in the DataFrame.\n",
    "\n",
    "    Parameters:\n",
    "        data_df (DataFrame): The input DataFrame.\n",
    "        columns (list): List of column names.\n",
    "\n",
    "    Returns:\n",
    "        pd.DataFrame: DataFrame containing column names and their space/blank counts.\n",
    "    \"\"\"\n",
    "    num_spaces = [data_df.where(col(c).rlike(\"^\\\\s+$\")).count() for c in columns]\n",
    "    num_blank = [data_df.where(col(c) == \"\").count() for c in columns]\n",
    "\n",
    "    space_blank_df = pd.DataFrame(\n",
    "        {\"column_names\": columns, \"num_spaces\": num_spaces, \"num_blank\": num_blank}\n",
    "    )\n",
    "    return space_blank_df"
   ]
  },
  {
   "cell_type": "code",
   "execution_count": null,
   "metadata": {},
   "outputs": [],
   "source": [
    "def get_descriptive_stats(data_df: DataFrame) -> pd.DataFrame:\n",
    "    \"\"\"\n",
    "    Get descriptive statistics for specified columns in the DataFrame.\n",
    "\n",
    "    Parameters:\n",
    "        data_df (DataFrame): The input DataFrame.\n",
    "\n",
    "    Returns:\n",
    "        pd.DataFrame: DataFrame containing descriptive statistics.\n",
    "    \"\"\"\n",
    "    desc_df = data_df.describe().toPandas().transpose()\n",
    "    desc_df.columns = [\"count\", \"mean\", \"stddev\", \"min\", \"max\"]\n",
    "    desc_df = desc_df.iloc[1:, :]\n",
    "    desc_df = desc_df.reset_index()\n",
    "    desc_df.columns.values[0] = \"column_names\"\n",
    "    desc_df = desc_df[[\"column_names\", \"count\", \"mean\", \"stddev\"]]\n",
    "    return desc_df"
   ]
  },
  {
   "cell_type": "code",
   "execution_count": null,
   "metadata": {},
   "outputs": [],
   "source": [
    "def get_distinct_value_counts(data_df: DataFrame, columns: list) -> pd.DataFrame:\n",
    "    \"\"\"\n",
    "    Get the number of distinct values for specified columns in the DataFrame.\n",
    "\n",
    "    Parameters:\n",
    "        data_df (DataFrame): The input DataFrame.\n",
    "        columns (list): List of column names.\n",
    "\n",
    "    Returns:\n",
    "        pd.DataFrame: DataFrame containing column names and their distinct value counts.\n",
    "    \"\"\"\n",
    "    distinct_counts_df = pd.DataFrame(\n",
    "        {\n",
    "            \"column_names\": columns,\n",
    "            \"num_distinct\": [data_df.select(x).distinct().count() for x in columns],\n",
    "        }\n",
    "    )\n",
    "    return distinct_counts_df"
   ]
  },
  {
   "cell_type": "code",
   "execution_count": null,
   "metadata": {},
   "outputs": [],
   "source": [
    "def get_most_frequent_values(data_df: DataFrame, columns: list) -> pd.DataFrame:\n",
    "    \"\"\"\n",
    "    Get the most frequently occurring value and its count for specified columns in the DataFrame.\n",
    "\n",
    "    Parameters:\n",
    "        data_df (DataFrame): The input DataFrame.\n",
    "        columns (list): List of column names.\n",
    "\n",
    "    Returns:\n",
    "        pd.DataFrame: DataFrame containing column names, most frequent value, and its count.\n",
    "    \"\"\"\n",
    "    most_freq_values = [\n",
    "        data_df.groupBy(x)\n",
    "        .count()\n",
    "        .sort(\"count\", ascending=False)\n",
    "        .limit(1)\n",
    "        .toPandas()\n",
    "        .iloc[0]\n",
    "        .tolist()\n",
    "        for x in columns\n",
    "    ]\n",
    "    most_freq_values_df = pd.DataFrame(\n",
    "        most_freq_values, columns=[\"most_freq_value\", \"most_freq_value_count\"]\n",
    "    )\n",
    "    most_freq_values_df[\"column_names\"] = columns\n",
    "    most_freq_values_df = most_freq_values_df[\n",
    "        [\"column_names\", \"most_freq_value\", \"most_freq_value_count\"]\n",
    "    ]\n",
    "    return most_freq_values_df"
   ]
  },
  {
   "cell_type": "code",
   "execution_count": null,
   "metadata": {},
   "outputs": [],
   "source": [
    "def get_least_frequent_values(data_df: DataFrame, columns: list) -> pd.DataFrame:\n",
    "    \"\"\"\n",
    "    Get the least frequently occurring value and its count for specified columns in the DataFrame.\n",
    "\n",
    "    Parameters:\n",
    "        data_df (DataFrame): The input DataFrame.\n",
    "        columns (list): List of column names.\n",
    "\n",
    "    Returns:\n",
    "        pd.DataFrame: DataFrame containing column names, least frequent value, and its count.\n",
    "    \"\"\"\n",
    "    least_freq_values = [\n",
    "        data_df.groupBy(x)\n",
    "        .count()\n",
    "        .sort(\"count\", ascending=True)\n",
    "        .limit(1)\n",
    "        .toPandas()\n",
    "        .iloc[0]\n",
    "        .tolist()\n",
    "        for x in columns\n",
    "    ]\n",
    "    least_freq_values_df = pd.DataFrame(\n",
    "        least_freq_values, columns=[\"least_freq_value\", \"least_freq_value_count\"]\n",
    "    )\n",
    "    least_freq_values_df[\"column_names\"] = columns\n",
    "    least_freq_values_df = least_freq_values_df[\n",
    "        [\"column_names\", \"least_freq_value\", \"least_freq_value_count\"]\n",
    "    ]\n",
    "    return least_freq_values_df"
   ]
  },
  {
   "cell_type": "code",
   "execution_count": 8,
   "metadata": {},
   "outputs": [],
   "source": [
    "def is_categorical_column(column: DataFrame, distinct_threshold: int) -> bool:\n",
    "    \"\"\"\n",
    "    Determine if a column is categorical based on the distinct value threshold.\n",
    "\n",
    "    Parameters:\n",
    "        column (DataFrame): The input column to be evaluated.\n",
    "        distinct_threshold (int): The threshold to consider a column as categorical.\n",
    "\n",
    "    Returns:\n",
    "        bool: True if the column is categorical, False otherwise.\n",
    "    \"\"\"\n",
    "    num_distinct = column.nunique()\n",
    "    return num_distinct <= distinct_threshold"
   ]
  },
  {
   "cell_type": "code",
   "execution_count": 4,
   "metadata": {},
   "outputs": [],
   "source": [
    "def profile_column_values(data_df: DataFrame, column_name: str):\n",
    "    \"\"\"\n",
    "    Profile the values of a column by showing value counts.\n",
    "\n",
    "    Parameters:\n",
    "        data_df (DataFrame): The input DataFrame.\n",
    "        column_name (str): The name of the column to be profiled.\n",
    "    \"\"\"\n",
    "    value_counts = data_df.groupBy(column_name).count().orderBy(col(\"count\").desc())\n",
    "\n",
    "    return value_counts.toPandas()"
   ]
  }
 ],
 "metadata": {
  "kernelspec": {
   "display_name": "Python 3",
   "language": "python",
   "name": "python3"
  },
  "language_info": {
   "codemirror_mode": {
    "name": "ipython",
    "version": 3
   },
   "file_extension": ".py",
   "mimetype": "text/x-python",
   "name": "python",
   "nbconvert_exporter": "python",
   "pygments_lexer": "ipython3",
   "version": "3.7.3"
  }
 },
 "nbformat": 4,
 "nbformat_minor": 4
}
