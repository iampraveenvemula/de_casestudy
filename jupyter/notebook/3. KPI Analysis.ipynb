{
 "cells": [
  {
   "cell_type": "code",
   "execution_count": 1,
   "metadata": {},
   "outputs": [
    {
     "data": {
      "text/html": [
       "\n",
       "                <script type=\"application/javascript\" id=\"jupyter_black\">\n",
       "                (function() {\n",
       "                    if (window.IPython === undefined) {\n",
       "                        return\n",
       "                    }\n",
       "                    var msg = \"WARNING: it looks like you might have loaded \" +\n",
       "                        \"jupyter_black in a non-lab notebook with \" +\n",
       "                        \"`is_lab=True`. Please double check, and if \" +\n",
       "                        \"loading with `%load_ext` please review the README!\"\n",
       "                    console.log(msg)\n",
       "                    alert(msg)\n",
       "                })()\n",
       "                </script>\n",
       "                "
      ],
      "text/plain": [
       "<IPython.core.display.HTML object>"
      ]
     },
     "metadata": {},
     "output_type": "display_data"
    }
   ],
   "source": [
    "# Import the findspark module to help locate and initialize Spark\n",
    "import findspark\n",
    "\n",
    "# Initialize Spark\n",
    "findspark.init()\n",
    "\n",
    "# Import the jupyter_black module, which is an extension to format code cells in Jupyter Notebook\n",
    "import jupyter_black\n",
    "\n",
    "# Load and enable the jupyter_black extension to format code cells automatically\n",
    "jupyter_black.load()"
   ]
  },
  {
   "cell_type": "code",
   "execution_count": 2,
   "metadata": {},
   "outputs": [],
   "source": [
    "# importing required libraries\n",
    "\n",
    "import pandas as pd\n",
    "\n",
    "from pyspark.conf import SparkConf\n",
    "from pyspark.sql import SparkSession, DataFrame\n",
    "from pyspark.sql.functions import col, count, isnan, when\n",
    "\n",
    "from common import *"
   ]
  },
  {
   "cell_type": "code",
   "execution_count": 3,
   "metadata": {},
   "outputs": [],
   "source": [
    "spark = SparkSession.builder.appName(\"NYCJobsDataKPIAnalysis\").getOrCreate()"
   ]
  },
  {
   "cell_type": "code",
   "execution_count": 4,
   "metadata": {},
   "outputs": [
    {
     "name": "stdout",
     "output_type": "stream",
     "text": [
      "total 0\r\n",
      "drwxr-xr-x 1 root root 512 Aug 30 22:59 nyc_job_postings_processed_data.csv\r\n",
      "drwxr-xr-x 1 root root 512 Aug 31 08:25 nyc_job_postings_processed_data.parquet\r\n"
     ]
    }
   ],
   "source": [
    "!ls -l \"../../dataset/processed/\""
   ]
  },
  {
   "cell_type": "code",
   "execution_count": 5,
   "metadata": {},
   "outputs": [],
   "source": [
    "# load the processed dataset\n",
    "\n",
    "df = spark.read.parquet(\n",
    "    \"../../dataset/processed/nyc_job_postings_processed_data.parquet\"\n",
    ")"
   ]
  },
  {
   "cell_type": "code",
   "execution_count": 7,
   "metadata": {},
   "outputs": [],
   "source": [
    "from pyspark.sql import DataFrame\n",
    "from pyspark.sql.functions import desc, sum\n",
    "from pyspark.sql.session import SparkSession\n",
    "\n",
    "\n",
    "def get_top10_job_postings_per_category(df: DataFrame) -> DataFrame:\n",
    "    \"\"\"\n",
    "    Get the top 10 job postings per category based on the number of positions.\n",
    "\n",
    "    Args:\n",
    "        df (DataFrame): The input DataFrame containing job posting data.\n",
    "\n",
    "    Returns:\n",
    "        DataFrame: A DataFrame with the top 10 job postings per category.\n",
    "    \"\"\"\n",
    "    # Group by job category and aggregate the sum of positions\n",
    "    category_positions = df.groupBy(\"Job_Category\").agg(\n",
    "        sum(\"#_Of_Positions\").alias(\"Total_Positions\")\n",
    "    )\n",
    "\n",
    "    # Sort by total positions in descending order and limit to top 10\n",
    "    top10_categories = category_positions.sort(desc(\"Total_Positions\")).limit(10)\n",
    "\n",
    "    return top10_categories"
   ]
  },
  {
   "cell_type": "code",
   "execution_count": 8,
   "metadata": {
    "scrolled": true
   },
   "outputs": [
    {
     "name": "stdout",
     "output_type": "stream",
     "text": [
      "+-----------------------------------------+---------------+\n",
      "|Job_Category                             |Total_Positions|\n",
      "+-----------------------------------------+---------------+\n",
      "|Public Safety, Inspections, & Enforcement|1285           |\n",
      "|Building Operations & Maintenance        |741            |\n",
      "|Engineering, Architecture, & Planning    |665            |\n",
      "|Technology, Data & Innovation            |400            |\n",
      "|Health                                   |303            |\n",
      "|Legal Affairs                            |288            |\n",
      "|Finance, Accounting, & Procurement       |251            |\n",
      "|Policy, Research & Analysis              |179            |\n",
      "|Administration & Human Resources         |175            |\n",
      "|Constituent Services & Community Programs|145            |\n",
      "+-----------------------------------------+---------------+\n",
      "\n"
     ]
    }
   ],
   "source": [
    "top10_categories_df = get_top10_job_postings_per_category(df)\n",
    "top10_categories_df.show(truncate=False)"
   ]
  },
  {
   "cell_type": "code",
   "execution_count": 41,
   "metadata": {},
   "outputs": [],
   "source": [
    "#!python -m pip install plotly"
   ]
  },
  {
   "cell_type": "code",
   "execution_count": 44,
   "metadata": {},
   "outputs": [],
   "source": [
    "tmp = top10_categories_df.toPandas()"
   ]
  },
  {
   "cell_type": "code",
   "execution_count": 51,
   "metadata": {},
   "outputs": [],
   "source": [
    "import plotly.io as pio\n",
    "import plotly.express as px\n",
    "\n",
    "pio.templates.default = \"presentation\""
   ]
  },
  {
   "cell_type": "code",
   "execution_count": 58,
   "metadata": {
    "scrolled": false
   },
   "outputs": [],
   "source": [
    "import plotly.express as px\n",
    "import plotly.graph_objects as go\n",
    "\n",
    "\n",
    "def create_annotated_bar_plot(data_frame, x, y, title):\n",
    "    # Create a bar plot\n",
    "    fig = px.bar(\n",
    "        data_frame,\n",
    "        x=x,\n",
    "        y=y,\n",
    "        title=title,\n",
    "    )\n",
    "\n",
    "    # Add annotations to the bars\n",
    "    for index, row in data_frame.iterrows():\n",
    "        fig.add_annotation(\n",
    "            x=row[x],\n",
    "            y=row[y],\n",
    "            text=str(row[y]),\n",
    "            showarrow=True,\n",
    "            arrowhead=1,\n",
    "        )\n",
    "\n",
    "    # Customize layout\n",
    "    fig.update_layout(\n",
    "        xaxis_title=x,\n",
    "        yaxis_title=y,\n",
    "        xaxis_tickangle=-45,\n",
    "        bargap=0.2,\n",
    "    )\n",
    "\n",
    "    fig.show()"
   ]
  },
  {
   "cell_type": "code",
   "execution_count": 59,
   "metadata": {},
   "outputs": [
    {
     "data": {
      "application/vnd.plotly.v1+json": {
       "config": {
        "plotlyServerURL": "https://plot.ly"
       },
       "data": [
        {
         "alignmentgroup": "True",
         "hovertemplate": "Job_Category=%{x}<br>Total_Positions=%{y}<extra></extra>",
         "legendgroup": "",
         "marker": {
          "color": "#1F77B4",
          "pattern": {
           "shape": ""
          }
         },
         "name": "",
         "offsetgroup": "",
         "orientation": "v",
         "showlegend": false,
         "textposition": "auto",
         "type": "bar",
         "x": [
          "Public Safety, Inspections, & Enforcement",
          "Building Operations & Maintenance",
          "Engineering, Architecture, & Planning",
          "Technology, Data & Innovation",
          "Health",
          "Legal Affairs",
          "Finance, Accounting, & Procurement",
          "Policy, Research & Analysis",
          "Administration & Human Resources",
          "Constituent Services & Community Programs"
         ],
         "xaxis": "x",
         "y": [
          1285,
          741,
          665,
          400,
          303,
          288,
          251,
          179,
          175,
          145
         ],
         "yaxis": "y"
        }
       ],
       "layout": {
        "annotations": [
         {
          "arrowhead": 1,
          "showarrow": true,
          "text": "1285",
          "x": "Public Safety, Inspections, & Enforcement",
          "y": 1285
         },
         {
          "arrowhead": 1,
          "showarrow": true,
          "text": "741",
          "x": "Building Operations & Maintenance",
          "y": 741
         },
         {
          "arrowhead": 1,
          "showarrow": true,
          "text": "665",
          "x": "Engineering, Architecture, & Planning",
          "y": 665
         },
         {
          "arrowhead": 1,
          "showarrow": true,
          "text": "400",
          "x": "Technology, Data & Innovation",
          "y": 400
         },
         {
          "arrowhead": 1,
          "showarrow": true,
          "text": "303",
          "x": "Health",
          "y": 303
         },
         {
          "arrowhead": 1,
          "showarrow": true,
          "text": "288",
          "x": "Legal Affairs",
          "y": 288
         },
         {
          "arrowhead": 1,
          "showarrow": true,
          "text": "251",
          "x": "Finance, Accounting, & Procurement",
          "y": 251
         },
         {
          "arrowhead": 1,
          "showarrow": true,
          "text": "179",
          "x": "Policy, Research & Analysis",
          "y": 179
         },
         {
          "arrowhead": 1,
          "showarrow": true,
          "text": "175",
          "x": "Administration & Human Resources",
          "y": 175
         },
         {
          "arrowhead": 1,
          "showarrow": true,
          "text": "145",
          "x": "Constituent Services & Community Programs",
          "y": 145
         }
        ],
        "bargap": 0.2,
        "barmode": "relative",
        "legend": {
         "tracegroupgap": 0
        },
        "template": {
         "data": {
          "pie": [
           {
            "automargin": true,
            "type": "pie"
           }
          ],
          "scatter": [
           {
            "line": {
             "width": 3
            },
            "marker": {
             "size": 9
            },
            "type": "scatter"
           }
          ],
          "scatter3d": [
           {
            "line": {
             "width": 3
            },
            "marker": {
             "size": 9
            },
            "type": "scatter3d"
           }
          ],
          "scattergeo": [
           {
            "line": {
             "width": 3
            },
            "marker": {
             "size": 9
            },
            "type": "scattergeo"
           }
          ],
          "scattergl": [
           {
            "line": {
             "width": 3
            },
            "marker": {
             "size": 9
            },
            "type": "scattergl"
           }
          ],
          "scatterpolar": [
           {
            "line": {
             "width": 3
            },
            "marker": {
             "size": 9
            },
            "type": "scatterpolar"
           }
          ],
          "scatterpolargl": [
           {
            "line": {
             "width": 3
            },
            "marker": {
             "size": 9
            },
            "type": "scatterpolargl"
           }
          ],
          "scatterternary": [
           {
            "line": {
             "width": 3
            },
            "marker": {
             "size": 9
            },
            "type": "scatterternary"
           }
          ],
          "table": [
           {
            "cells": {
             "height": 30
            },
            "header": {
             "height": 36
            },
            "type": "table"
           }
          ]
         },
         "layout": {
          "font": {
           "size": 18
          },
          "xaxis": {
           "title": {
            "standoff": 15
           }
          },
          "yaxis": {
           "title": {
            "standoff": 15
           }
          }
         }
        },
        "title": {
         "text": "Total Jobs per Category"
        },
        "xaxis": {
         "anchor": "y",
         "domain": [
          0,
          1
         ],
         "tickangle": -45,
         "title": {
          "text": "Job_Category"
         }
        },
        "yaxis": {
         "anchor": "x",
         "domain": [
          0,
          1
         ],
         "title": {
          "text": "Total_Positions"
         }
        }
       }
      },
      "text/html": [
       "<div>                            <div id=\"3f86d317-382d-4ca0-b0b4-707816c5f758\" class=\"plotly-graph-div\" style=\"height:525px; width:100%;\"></div>            <script type=\"text/javascript\">                require([\"plotly\"], function(Plotly) {                    window.PLOTLYENV=window.PLOTLYENV || {};                                    if (document.getElementById(\"3f86d317-382d-4ca0-b0b4-707816c5f758\")) {                    Plotly.newPlot(                        \"3f86d317-382d-4ca0-b0b4-707816c5f758\",                        [{\"alignmentgroup\":\"True\",\"hovertemplate\":\"Job_Category=%{x}\\u003cbr\\u003eTotal_Positions=%{y}\\u003cextra\\u003e\\u003c\\u002fextra\\u003e\",\"legendgroup\":\"\",\"marker\":{\"color\":\"#1F77B4\",\"pattern\":{\"shape\":\"\"}},\"name\":\"\",\"offsetgroup\":\"\",\"orientation\":\"v\",\"showlegend\":false,\"textposition\":\"auto\",\"x\":[\"Public Safety, Inspections, & Enforcement\",\"Building Operations & Maintenance\",\"Engineering, Architecture, & Planning\",\"Technology, Data & Innovation\",\"Health\",\"Legal Affairs\",\"Finance, Accounting, & Procurement\",\"Policy, Research & Analysis\",\"Administration & Human Resources\",\"Constituent Services & Community Programs\"],\"xaxis\":\"x\",\"y\":[1285,741,665,400,303,288,251,179,175,145],\"yaxis\":\"y\",\"type\":\"bar\"}],                        {\"template\":{\"data\":{\"scatter\":[{\"line\":{\"width\":3},\"marker\":{\"size\":9},\"type\":\"scatter\"}],\"scattergl\":[{\"line\":{\"width\":3},\"marker\":{\"size\":9},\"type\":\"scattergl\"}],\"scatter3d\":[{\"line\":{\"width\":3},\"marker\":{\"size\":9},\"type\":\"scatter3d\"}],\"scatterpolar\":[{\"line\":{\"width\":3},\"marker\":{\"size\":9},\"type\":\"scatterpolar\"}],\"scatterpolargl\":[{\"line\":{\"width\":3},\"marker\":{\"size\":9},\"type\":\"scatterpolargl\"}],\"scatterternary\":[{\"line\":{\"width\":3},\"marker\":{\"size\":9},\"type\":\"scatterternary\"}],\"scattergeo\":[{\"line\":{\"width\":3},\"marker\":{\"size\":9},\"type\":\"scattergeo\"}],\"table\":[{\"cells\":{\"height\":30},\"header\":{\"height\":36},\"type\":\"table\"}],\"pie\":[{\"automargin\":true,\"type\":\"pie\"}]},\"layout\":{\"xaxis\":{\"title\":{\"standoff\":15}},\"yaxis\":{\"title\":{\"standoff\":15}},\"font\":{\"size\":18}}},\"xaxis\":{\"anchor\":\"y\",\"domain\":[0.0,1.0],\"title\":{\"text\":\"Job_Category\"},\"tickangle\":-45},\"yaxis\":{\"anchor\":\"x\",\"domain\":[0.0,1.0],\"title\":{\"text\":\"Total_Positions\"}},\"legend\":{\"tracegroupgap\":0},\"title\":{\"text\":\"Total Jobs per Category\"},\"barmode\":\"relative\",\"annotations\":[{\"arrowhead\":1,\"showarrow\":true,\"text\":\"1285\",\"x\":\"Public Safety, Inspections, & Enforcement\",\"y\":1285},{\"arrowhead\":1,\"showarrow\":true,\"text\":\"741\",\"x\":\"Building Operations & Maintenance\",\"y\":741},{\"arrowhead\":1,\"showarrow\":true,\"text\":\"665\",\"x\":\"Engineering, Architecture, & Planning\",\"y\":665},{\"arrowhead\":1,\"showarrow\":true,\"text\":\"400\",\"x\":\"Technology, Data & Innovation\",\"y\":400},{\"arrowhead\":1,\"showarrow\":true,\"text\":\"303\",\"x\":\"Health\",\"y\":303},{\"arrowhead\":1,\"showarrow\":true,\"text\":\"288\",\"x\":\"Legal Affairs\",\"y\":288},{\"arrowhead\":1,\"showarrow\":true,\"text\":\"251\",\"x\":\"Finance, Accounting, & Procurement\",\"y\":251},{\"arrowhead\":1,\"showarrow\":true,\"text\":\"179\",\"x\":\"Policy, Research & Analysis\",\"y\":179},{\"arrowhead\":1,\"showarrow\":true,\"text\":\"175\",\"x\":\"Administration & Human Resources\",\"y\":175},{\"arrowhead\":1,\"showarrow\":true,\"text\":\"145\",\"x\":\"Constituent Services & Community Programs\",\"y\":145}],\"bargap\":0.2},                        {\"responsive\": true}                    ).then(function(){\n",
       "                            \n",
       "var gd = document.getElementById('3f86d317-382d-4ca0-b0b4-707816c5f758');\n",
       "var x = new MutationObserver(function (mutations, observer) {{\n",
       "        var display = window.getComputedStyle(gd).display;\n",
       "        if (!display || display === 'none') {{\n",
       "            console.log([gd, 'removed!']);\n",
       "            Plotly.purge(gd);\n",
       "            observer.disconnect();\n",
       "        }}\n",
       "}});\n",
       "\n",
       "// Listen for the removal of the full notebook cells\n",
       "var notebookContainer = gd.closest('#notebook-container');\n",
       "if (notebookContainer) {{\n",
       "    x.observe(notebookContainer, {childList: true});\n",
       "}}\n",
       "\n",
       "// Listen for the clearing of the current output cell\n",
       "var outputEl = gd.closest('.output');\n",
       "if (outputEl) {{\n",
       "    x.observe(outputEl, {childList: true});\n",
       "}}\n",
       "\n",
       "                        })                };                });            </script>        </div>"
      ]
     },
     "metadata": {},
     "output_type": "display_data"
    }
   ],
   "source": [
    "# Call the function with the DataFrame\n",
    "create_annotated_bar_plot(\n",
    "    tmp, x=\"Job_Category\", y=\"Total_Positions\", title=\"Total Jobs per Category\"\n",
    ")"
   ]
  },
  {
   "cell_type": "code",
   "execution_count": null,
   "metadata": {},
   "outputs": [],
   "source": [
    "# 2. Whats the salary distribution per job category?"
   ]
  },
  {
   "cell_type": "code",
   "execution_count": 10,
   "metadata": {},
   "outputs": [],
   "source": [
    "from pyspark.sql import DataFrame\n",
    "from pyspark.sql.functions import round, avg, col, stddev, min, max\n",
    "\n",
    "from pyspark.sql import functions as F"
   ]
  },
  {
   "cell_type": "code",
   "execution_count": 11,
   "metadata": {},
   "outputs": [],
   "source": [
    "def calculate_salary_distribution(df: DataFrame) -> DataFrame:\n",
    "    \"\"\"\n",
    "    Calculate salary distribution per job category.\n",
    "\n",
    "    Args:\n",
    "        df (DataFrame): Input DataFrame with the provided schema.\n",
    "\n",
    "    Returns:\n",
    "        DataFrame: DataFrame with rounded salary distribution statistics.\n",
    "    \"\"\"\n",
    "    # Calculate salary distribution per job category\n",
    "    salary_distribution = df.groupBy(\"Job_Category\").agg(\n",
    "        round(avg(\"AverageAnnualSalary\"), 2).alias(\"AvgSalary\"),\n",
    "        round(stddev(\"AverageAnnualSalary\"), 2).alias(\"SalaryStdDev\"),\n",
    "        round(min(\"AverageAnnualSalary\"), 2).alias(\"MinSalary\"),\n",
    "        round(max(\"AverageAnnualSalary\"), 2).alias(\"MaxSalary\"),\n",
    "    )\n",
    "\n",
    "    return salary_distribution"
   ]
  },
  {
   "cell_type": "code",
   "execution_count": 12,
   "metadata": {},
   "outputs": [
    {
     "name": "stdout",
     "output_type": "stream",
     "text": [
      "+--------------------+---------+------------+---------+---------+\n",
      "|        Job_Category|AvgSalary|SalaryStdDev|MinSalary|MaxSalary|\n",
      "+--------------------+---------+------------+---------+---------+\n",
      "|Administration & ...|  95000.0|         NaN|  95000.0|  95000.0|\n",
      "|Health Policy, Re...| 128694.5|    39035.23|  94889.0| 162500.0|\n",
      "|Administration & ...|  69040.5|         0.0|  69040.5|  69040.5|\n",
      "|Information Techn...|  76941.5|         0.0|  76941.5|  76941.5|\n",
      "|Finance, Accounti...|  63024.5|         NaN|  63024.5|  63024.5|\n",
      "|Engineering, Arch...| 84286.67|    15379.16|  69283.5| 103050.0|\n",
      "|Legal Affairs Pol...| 88898.67|     25122.4|  59705.5| 115732.0|\n",
      "|Administration & ...|  53075.5|         0.0|  53075.5|  53075.5|\n",
      "|Constituent Servi...| 67248.04|    17156.25|  31371.5| 135000.0|\n",
      "|Building Operatio...| 71574.29|    30686.79|  36267.5| 151795.0|\n",
      "|Engineering, Arch...| 128247.5|         0.0| 128247.5| 128247.5|\n",
      "|Constituent Servi...| 61939.25|      4089.1|  56463.5|  67029.5|\n",
      "|Administration & ...|  70661.0|         NaN|  70661.0|  70661.0|\n",
      "|       Legal Affairs| 82790.26|    24692.98|  37398.0| 191913.0|\n",
      "|Engineering, Arch...|  36816.0|         0.0|  36816.0|  36816.0|\n",
      "|Finance, Accounti...|  92614.5|    36974.09|  49920.5| 113961.5|\n",
      "|Constituent Servi...|  32240.0|         0.0|  32240.0|  32240.0|\n",
      "|Administration & ...|  36816.0|         0.0|  36816.0|  36816.0|\n",
      "|Health Legal Affairs| 68609.12|         0.0| 68609.12| 68609.12|\n",
      "|Administration & ...|  47691.5|         0.0|  47691.5|  47691.5|\n",
      "+--------------------+---------+------------+---------+---------+\n",
      "only showing top 20 rows\n",
      "\n"
     ]
    }
   ],
   "source": [
    "# Calculate salary distribution\n",
    "result_df = calculate_salary_distribution(df)\n",
    "\n",
    "# Show the result\n",
    "result_df.show()"
   ]
  },
  {
   "cell_type": "code",
   "execution_count": 14,
   "metadata": {},
   "outputs": [],
   "source": [
    "## 3. Is there any correlation between the higher degree and the salary?"
   ]
  },
  {
   "cell_type": "code",
   "execution_count": 15,
   "metadata": {},
   "outputs": [
    {
     "name": "stdout",
     "output_type": "stream",
     "text": [
      "+-------------+------------------+\n",
      "|HighestDegree|         AvgSalary|\n",
      "+-------------+------------------+\n",
      "|         null| 95860.78691102262|\n",
      "|       master|107468.30012121213|\n",
      "|baccalaureate| 91239.54532382311|\n",
      "|  high school| 85775.66294736842|\n",
      "|      diploma| 58187.09613913044|\n",
      "+-------------+------------------+\n",
      "\n"
     ]
    }
   ],
   "source": [
    "# Group by \"HighestDegree\" and calculate the average salary\n",
    "\n",
    "avg_salary_by_degree = df.groupBy(\"HighestDegree\").agg(\n",
    "    avg(\"AnnualSalaryTo\").alias(\"AvgSalary\")\n",
    ")\n",
    "\n",
    "# Show the result\n",
    "avg_salary_by_degree.show()"
   ]
  },
  {
   "cell_type": "code",
   "execution_count": 16,
   "metadata": {},
   "outputs": [],
   "source": [
    "### 4: Whats the job posting having the highest salary per agency?"
   ]
  },
  {
   "cell_type": "code",
   "execution_count": 17,
   "metadata": {},
   "outputs": [],
   "source": [
    "df = df.drop_duplicates()"
   ]
  },
  {
   "cell_type": "code",
   "execution_count": 18,
   "metadata": {},
   "outputs": [],
   "source": [
    "# Remove duplicates based on the \"Job ID\" column\n",
    "df = df.dropDuplicates([\"Job_ID\"])"
   ]
  },
  {
   "cell_type": "code",
   "execution_count": 19,
   "metadata": {},
   "outputs": [
    {
     "name": "stdout",
     "output_type": "stream",
     "text": [
      "+------+------------------------------+--------------+\n",
      "|Job_ID|Agency                        |AnnualSalaryTo|\n",
      "+------+------------------------------+--------------+\n",
      "|170989|OFFICE OF COLLECTIVE BARGAININ|21548.8       |\n",
      "|369120|MANHATTAN COMMUNITY BOARD #8  |39520.0       |\n",
      "|399955|PUBLIC ADMINISTRATOR-NEW YORK |49349.0       |\n",
      "|420065|EQUAL EMPLOY PRACTICES COMM   |72712.0       |\n",
      "|420740|TEACHERS RETIREMENT SYSTEM    |75760.0       |\n",
      "|404501|BOROUGH PRESIDENT-QUEENS      |77410.0       |\n",
      "|425908|DEPARTMENT OF BUILDINGS       |82137.0       |\n",
      "|417137|OFFICE OF EMERGENCY MANAGEMENT|85000.0       |\n",
      "|405135|DEPT. OF HOMELESS SERVICES    |92001.0       |\n",
      "|415959|NYC DEPT OF VETERANS' SERVICES|92001.0       |\n",
      "|417207|ADMIN TRIALS AND HEARINGS     |100000.0      |\n",
      "|403516|BUSINESS INTEGRITY COMMISSION |100000.0      |\n",
      "|387034|BOARD OF CORRECTION           |102936.0      |\n",
      "|402533|DEPT OF YOUTH & COMM DEV SRVS |110000.0      |\n",
      "|416149|OFF OF PAYROLL ADMINISTRATION |115000.0      |\n",
      "|423972|OFFICE OF MANAGEMENT & BUDGET |117810.0      |\n",
      "|404518|PRESIDENT BOROUGH OF MANHATTAN|120000.0      |\n",
      "|417281|DEPT OF CITYWIDE ADMIN SVCS   |125000.0      |\n",
      "|416547|DEPT OF CITYWIDE ADMIN SVCS   |125000.0      |\n",
      "|425833|DEPT OF PARKS & RECREATION    |128000.0      |\n",
      "+------+------------------------------+--------------+\n",
      "only showing top 20 rows\n",
      "\n"
     ]
    }
   ],
   "source": [
    "from pyspark.sql.functions import col, max, count\n",
    "from pyspark.sql.window import Window\n",
    "\n",
    "# Define a window specification to partition by \"Agency\"\n",
    "window_spec = Window.partitionBy(\"Agency\")\n",
    "\n",
    "# Calculate the maximum salary within each agency using the window function\n",
    "df_with_max_salary = df.withColumn(\n",
    "    \"MaxSalary\", max(col(\"AnnualSalaryTo\")).over(window_spec)\n",
    ")\n",
    "\n",
    "# Filter rows where the salary matches the maximum salary per agency\n",
    "result = df_with_max_salary.filter(col(\"AnnualSalaryTo\") == col(\"MaxSalary\"))\n",
    "\n",
    "# Select the relevant columns for the final result\n",
    "final_result = result.select(\"Job_ID\", \"Agency\", \"AnnualSalaryTo\")\n",
    "\n",
    "# Remove duplicates from the result\n",
    "# final_result = final_result.distinct()\n",
    "\n",
    "# Show the result\n",
    "final_result.orderBy(\"AnnualSalaryTo\").show(truncate=False)"
   ]
  },
  {
   "cell_type": "code",
   "execution_count": 20,
   "metadata": {},
   "outputs": [
    {
     "name": "stdout",
     "output_type": "stream",
     "text": [
      "+------+------------------------------+---------+\n",
      "|Job_ID|Agency                        |MaxSalary|\n",
      "+------+------------------------------+---------+\n",
      "|170989|OFFICE OF COLLECTIVE BARGAININ|19874.4  |\n",
      "|369120|MANHATTAN COMMUNITY BOARD #8  |39520.0  |\n",
      "|399955|PUBLIC ADMINISTRATOR-NEW YORK |43296.0  |\n",
      "|420065|EQUAL EMPLOY PRACTICES COMM   |67970.0  |\n",
      "|420740|TEACHERS RETIREMENT SYSTEM    |69078.5  |\n",
      "|404501|BOROUGH PRESIDENT-QUEENS      |65505.0  |\n",
      "|425908|DEPARTMENT OF BUILDINGS       |76780.0  |\n",
      "|417137|OFFICE OF EMERGENCY MANAGEMENT|70995.0  |\n",
      "|415959|NYC DEPT OF VETERANS' SERVICES|82653.0  |\n",
      "|405135|DEPT. OF HOMELESS SERVICES    |82653.0  |\n",
      "|403516|BUSINESS INTEGRITY COMMISSION |95000.0  |\n",
      "|417207|ADMIN TRIALS AND HEARINGS     |90000.0  |\n",
      "|387034|BOARD OF CORRECTION           |96222.5  |\n",
      "|424963|DEPT OF YOUTH & COMM DEV SRVS |91965.5  |\n",
      "|423999|DEPARTMENT OF BUSINESS SERV.  |101097.0 |\n",
      "|416149|OFF OF PAYROLL ADMINISTRATION |85995.0  |\n",
      "|423972|OFFICE OF MANAGEMENT & BUDGET |117810.0 |\n",
      "|417288|MAYORS OFFICE OF CONTRACT SVCS|110000.0 |\n",
      "|404518|PRESIDENT BOROUGH OF MANHATTAN|115000.0 |\n",
      "|417281|DEPT OF CITYWIDE ADMIN SVCS   |117500.0 |\n",
      "+------+------------------------------+---------+\n",
      "only showing top 20 rows\n",
      "\n"
     ]
    }
   ],
   "source": [
    "from pyspark.sql.functions import col, max, count\n",
    "from pyspark.sql.window import Window\n",
    "\n",
    "# Find the job posting with the highest salary per agency\n",
    "max_salary_per_agency = df.groupBy(\"Agency\").agg(\n",
    "    max(\"AverageAnnualSalary\").alias(\"MaxSalary\")\n",
    ")\n",
    "result = df.join(max_salary_per_agency, on=\"Agency\").filter(\n",
    "    col(\"AverageAnnualSalary\") == col(\"MaxSalary\")\n",
    ")\n",
    "\n",
    "# Remove duplicates from the result\n",
    "final_result = result.distinct()\n",
    "\n",
    "# Show the result\n",
    "final_result.select(\"Job_ID\", \"Agency\", \"MaxSalary\").orderBy(\"AnnualSalaryTo\").show(\n",
    "    truncate=False\n",
    ")"
   ]
  },
  {
   "cell_type": "code",
   "execution_count": 21,
   "metadata": {},
   "outputs": [],
   "source": [
    "### 5. Whats the job positings average salary per agency for the last 2 years?"
   ]
  },
  {
   "cell_type": "code",
   "execution_count": 22,
   "metadata": {},
   "outputs": [
    {
     "data": {
      "text/plain": [
       "['job_id',\n",
       " 'agency',\n",
       " 'posting_type',\n",
       " '#_of_positions',\n",
       " 'business_title',\n",
       " 'job_category',\n",
       " 'Posting_Date',\n",
       " 'annualsalaryfrom',\n",
       " 'annualsalaryto',\n",
       " 'averageannualsalary',\n",
       " 'degrees',\n",
       " 'highestdegree',\n",
       " 'ngrams']"
      ]
     },
     "execution_count": 22,
     "metadata": {},
     "output_type": "execute_result"
    }
   ],
   "source": [
    "df.columns"
   ]
  },
  {
   "cell_type": "code",
   "execution_count": 23,
   "metadata": {},
   "outputs": [
    {
     "name": "stdout",
     "output_type": "stream",
     "text": [
      "+--------------------+-------------------+\n",
      "|              Agency|avg(AnnualSalaryTo)|\n",
      "+--------------------+-------------------+\n",
      "|     FIRE DEPARTMENT|  92683.63186666668|\n",
      "|ADMIN FOR CHILDRE...|  81046.33333333333|\n",
      "+--------------------+-------------------+\n",
      "only showing top 2 rows\n",
      "\n"
     ]
    }
   ],
   "source": [
    "from pyspark.sql import SparkSession\n",
    "from pyspark.sql.functions import col, year, current_date, date_sub, avg\n",
    "\n",
    "# Convert \"Posting Date\" to date format\n",
    "df = df.withColumn(\"Posting_Date\", col(\"Posting_Date\").cast(\"date\"))\n",
    "\n",
    "nyears = 4\n",
    "\n",
    "# Calculate the date 2 years ago from current date\n",
    "two_years_ago = date_sub(current_date(), 365 * nyears)\n",
    "\n",
    "# Filter data for the last 2 years\n",
    "filtered_df = df.filter(col(\"Posting_Date\") >= two_years_ago)\n",
    "\n",
    "filtered_df.groupBy(\"Agency\").agg(avg(\"AnnualSalaryTo\")).show(2)"
   ]
  },
  {
   "cell_type": "code",
   "execution_count": 24,
   "metadata": {},
   "outputs": [],
   "source": [
    "### 6. What are the highest paid skills in the US market?"
   ]
  },
  {
   "cell_type": "code",
   "execution_count": 26,
   "metadata": {},
   "outputs": [
    {
     "data": {
      "text/plain": [
       "['job_id',\n",
       " 'agency',\n",
       " 'posting_type',\n",
       " '#_of_positions',\n",
       " 'business_title',\n",
       " 'job_category',\n",
       " 'Posting_Date',\n",
       " 'annualsalaryfrom',\n",
       " 'annualsalaryto',\n",
       " 'averageannualsalary',\n",
       " 'degrees',\n",
       " 'highestdegree',\n",
       " 'ngrams']"
      ]
     },
     "execution_count": 26,
     "metadata": {},
     "output_type": "execute_result"
    }
   ],
   "source": [
    "df.columns"
   ]
  },
  {
   "cell_type": "code",
   "execution_count": 30,
   "metadata": {},
   "outputs": [],
   "source": [
    "from pyspark.sql.functions import col, split\n",
    "\n",
    "# Split the 'name' column by comma and create a new column 'name_parts'\n",
    "df = df.withColumn(\"ngrams_list\", split(col(\"ngrams\"), \",\"))"
   ]
  },
  {
   "cell_type": "code",
   "execution_count": 34,
   "metadata": {},
   "outputs": [],
   "source": [
    "from pyspark.sql.functions import explode, round\n",
    "\n",
    "exploded_df = df.select(explode(\"ngrams_list\").alias(\"ngram\"), \"AnnualSalaryTo\")"
   ]
  },
  {
   "cell_type": "code",
   "execution_count": 38,
   "metadata": {},
   "outputs": [],
   "source": [
    "ngram_avg_salary_df = exploded_df.groupBy(\"ngram\").agg(\n",
    "    round(avg(\"AnnualSalaryTo\"), 0).alias(\"avg_salary\")\n",
    ")\n",
    "\n",
    "sorted_ngram_avg_salary_df = ngram_avg_salary_df.orderBy(\"avg_salary\", ascending=False)"
   ]
  },
  {
   "cell_type": "code",
   "execution_count": 39,
   "metadata": {},
   "outputs": [
    {
     "name": "stdout",
     "output_type": "stream",
     "text": [
      "+-----------------------+----------+\n",
      "|ngram                  |avg_salary|\n",
      "+-----------------------+----------+\n",
      "|cciso                  |234402.0  |\n",
      "|cgeit                  |234402.0  |\n",
      "|multitasker            |225217.0  |\n",
      "|extraordinary          |225217.0  |\n",
      "|instituting            |225217.0  |\n",
      "|solutionsdriven        |219746.0  |\n",
      "|alignment              |218587.0  |\n",
      "|mbaadvanced            |218587.0  |\n",
      "|recruit                |218587.0  |\n",
      "|resultsdriven          |218587.0  |\n",
      "|concerning             |217244.0  |\n",
      "|leasing                |217244.0  |\n",
      "|multidivisional        |217244.0  |\n",
      "|ipd                    |217244.0  |\n",
      "|recertifications       |217244.0  |\n",
      "|buildingleed           |217244.0  |\n",
      "|counterpart            |214086.0  |\n",
      "|sustaining             |214086.0  |\n",
      "|clock                  |209585.0  |\n",
      "|aligned                |209585.0  |\n",
      "|sustain                |209585.0  |\n",
      "|largest                |209585.0  |\n",
      "|ethical                |202744.0  |\n",
      "|cando                  |202744.0  |\n",
      "|imbue                  |202744.0  |\n",
      "|increasing             |202744.0  |\n",
      "|crisis                 |202744.0  |\n",
      "|consequence            |202744.0  |\n",
      "|expertly               |202744.0  |\n",
      "|reactive               |202744.0  |\n",
      "|humor                  |202744.0  |\n",
      "|recommended            |194395.0  |\n",
      "|districtsouthern       |194395.0  |\n",
      "|nycdol                 |192152.0  |\n",
      "|rent                   |190633.0  |\n",
      "|engineeringconstruction|190475.0  |\n",
      "|combined               |189168.0  |\n",
      "|endusers               |189000.0  |\n",
      "|interwoven             |189000.0  |\n",
      "|vignette               |189000.0  |\n",
      "|whole                  |187756.0  |\n",
      "|philosophy             |187756.0  |\n",
      "|midsized               |187000.0  |\n",
      "|manufacturersupplier   |186555.0  |\n",
      "|appropriateness        |186555.0  |\n",
      "|certificationlicense   |185513.0  |\n",
      "|holistic               |184610.0  |\n",
      "|colocation             |184610.0  |\n",
      "|approachable           |184610.0  |\n",
      "|contention             |184610.0  |\n",
      "+-----------------------+----------+\n",
      "only showing top 50 rows\n",
      "\n"
     ]
    }
   ],
   "source": [
    "sorted_ngram_avg_salary_df.show(50, truncate=False)"
   ]
  }
 ],
 "metadata": {
  "kernelspec": {
   "display_name": "Python 3",
   "language": "python",
   "name": "python3"
  },
  "language_info": {
   "codemirror_mode": {
    "name": "ipython",
    "version": 3
   },
   "file_extension": ".py",
   "mimetype": "text/x-python",
   "name": "python",
   "nbconvert_exporter": "python",
   "pygments_lexer": "ipython3",
   "version": "3.7.3"
  }
 },
 "nbformat": 4,
 "nbformat_minor": 4
}
